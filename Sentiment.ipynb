{
 "cells": [
  {
   "cell_type": "code",
   "execution_count": 1,
   "metadata": {},
   "outputs": [],
   "source": [
    "import os\n",
    "from pyspark.sql import SparkSession\n",
    "from pyspark.sql.types import StringType, FloatType, StructField, StructType, ArrayType, DoubleType, MapType, IntegerType\n",
    "import pyspark.sql.functions as f\n",
    "\n",
    "import string\n",
    "\n",
    "import nltk\n",
    "from nltk import pos_tag\n",
    "from nltk.corpus import stopwords, wordnet\n",
    "from nltk.stem import WordNetLemmatizer"
   ]
  },
  {
   "cell_type": "code",
   "execution_count": 2,
   "metadata": {},
   "outputs": [],
   "source": [
    "#create env for JAVA_HOME\n",
    "os.environ[\"JAVA_HOME\"] = \"C:\\Program Files\\Java\\jdk1.8.0_202\""
   ]
  },
  {
   "cell_type": "code",
   "execution_count": 3,
   "metadata": {},
   "outputs": [],
   "source": [
    "from pyspark.sql import SparkSession\n",
    "\n",
    "spark = SparkSession.builder\\\n",
    "        .master(\"local[1]\")\\\n",
    "        .appName(\"FP_BDPAL\")\\\n",
    "        .getOrCreate()\n",
    "\n",
    "spark\n",
    "sc = spark.sparkContext"
   ]
  },
  {
   "cell_type": "code",
   "execution_count": 4,
   "metadata": {},
   "outputs": [
    {
     "name": "stderr",
     "output_type": "stream",
     "text": [
      "[nltk_data] Downloading package stopwords to\n",
      "[nltk_data]     C:\\Users\\AZIS\\AppData\\Roaming\\nltk_data...\n",
      "[nltk_data]   Package stopwords is already up-to-date!\n",
      "[nltk_data] Downloading package vader_lexicon to\n",
      "[nltk_data]     C:\\Users\\AZIS\\AppData\\Roaming\\nltk_data...\n",
      "[nltk_data]   Package vader_lexicon is already up-to-date!\n"
     ]
    }
   ],
   "source": [
    "nltk.download('stopwords')\n",
    "nltk.download('vader_lexicon')\n",
    "stopwordsEnglish = stopwords.words('english')\n",
    "nltk.data.path.append('C:/Users/AZIS/AppData/Roaming/nltk_data')"
   ]
  },
  {
   "attachments": {},
   "cell_type": "markdown",
   "metadata": {},
   "source": [
    "## 1. Import Data"
   ]
  },
  {
   "cell_type": "code",
   "execution_count": 5,
   "metadata": {},
   "outputs": [
    {
     "name": "stdout",
     "output_type": "stream",
     "text": [
      "root\n",
      " |-- Hotel_Address: string (nullable = true)\n",
      " |-- Additional_Number_of_Scoring: integer (nullable = true)\n",
      " |-- Review_Date: string (nullable = true)\n",
      " |-- Average_Score: double (nullable = true)\n",
      " |-- Hotel_Name: string (nullable = true)\n",
      " |-- Reviewer_Nationality: string (nullable = true)\n",
      " |-- Negative_Review: string (nullable = true)\n",
      " |-- Review_Total_Negative_Word_Counts: integer (nullable = true)\n",
      " |-- Total_Number_of_Reviews: integer (nullable = true)\n",
      " |-- Positive_Review: string (nullable = true)\n",
      " |-- Review_Total_Positive_Word_Counts: integer (nullable = true)\n",
      " |-- Total_Number_of_Reviews_Reviewer_Has_Given: integer (nullable = true)\n",
      " |-- Reviewer_Score: double (nullable = true)\n",
      " |-- Tags: string (nullable = true)\n",
      " |-- days_since_review: string (nullable = true)\n",
      " |-- lat: string (nullable = true)\n",
      " |-- lng: string (nullable = true)\n",
      "\n",
      "+--------------------+----------------------------+-----------+-------------+-----------+--------------------+--------------------+---------------------------------+-----------------------+--------------------+---------------------------------+------------------------------------------+--------------+--------------------+-----------------+----------+---------+\n",
      "|       Hotel_Address|Additional_Number_of_Scoring|Review_Date|Average_Score| Hotel_Name|Reviewer_Nationality|     Negative_Review|Review_Total_Negative_Word_Counts|Total_Number_of_Reviews|     Positive_Review|Review_Total_Positive_Word_Counts|Total_Number_of_Reviews_Reviewer_Has_Given|Reviewer_Score|                Tags|days_since_review|       lat|      lng|\n",
      "+--------------------+----------------------------+-----------+-------------+-----------+--------------------+--------------------+---------------------------------+-----------------------+--------------------+---------------------------------+------------------------------------------+--------------+--------------------+-----------------+----------+---------+\n",
      "| s Gravesandestra...|                         194|   8/3/2017|          7.7|Hotel Arena|             Russia | I am so angry th...|                              397|                   1403| Only the park ou...|                               11|                                         7|           2.9|[' Leisure trip '...|           0 days|52.3605759|4.9159683|\n",
      "| s Gravesandestra...|                         194|   8/3/2017|          7.7|Hotel Arena|            Ireland |         No Negative|                                0|                   1403| No real complain...|                              105|                                         7|           7.5|[' Leisure trip '...|           0 days|52.3605759|4.9159683|\n",
      "| s Gravesandestra...|                         194|  7/31/2017|          7.7|Hotel Arena|          Australia | Rooms are nice b...|                               42|                   1403| Location was goo...|                               21|                                         9|           7.1|[' Leisure trip '...|           3 days|52.3605759|4.9159683|\n",
      "| s Gravesandestra...|                         194|  7/31/2017|          7.7|Hotel Arena|     United Kingdom | My room was dirt...|                              210|                   1403| Great location i...|                               26|                                         1|           3.8|[' Leisure trip '...|           3 days|52.3605759|4.9159683|\n",
      "| s Gravesandestra...|                         194|  7/24/2017|          7.7|Hotel Arena|        New Zealand | You When I booke...|                              140|                   1403| Amazing location...|                                8|                                         3|           6.7|[' Leisure trip '...|          10 days|52.3605759|4.9159683|\n",
      "+--------------------+----------------------------+-----------+-------------+-----------+--------------------+--------------------+---------------------------------+-----------------------+--------------------+---------------------------------+------------------------------------------+--------------+--------------------+-----------------+----------+---------+\n",
      "only showing top 5 rows\n",
      "\n"
     ]
    }
   ],
   "source": [
    "df_hotelReviews = spark.read.csv('./Hotel_Reviews.csv', header=True, inferSchema=True)\n",
    "\n",
    "df_hotelReviews.printSchema()\n",
    "\n",
    "df_hotelReviews.show(5)"
   ]
  },
  {
   "attachments": {},
   "cell_type": "markdown",
   "metadata": {},
   "source": [
    "## 2. Data Preprocessing"
   ]
  },
  {
   "cell_type": "code",
   "execution_count": 6,
   "metadata": {
    "tags": []
   },
   "outputs": [
    {
     "name": "stdout",
     "output_type": "stream",
     "text": [
      "+--------------------+\n",
      "|              review|\n",
      "+--------------------+\n",
      "| I am so angry th...|\n",
      "|No Negative No re...|\n",
      "| Rooms are nice b...|\n",
      "| My room was dirt...|\n",
      "| You When I booke...|\n",
      "+--------------------+\n",
      "only showing top 5 rows\n",
      "\n"
     ]
    }
   ],
   "source": [
    "df_hotelReviews = df_hotelReviews.withColumn(\"review\", f.concat(df_hotelReviews[\"Negative_Review\"], df_hotelReviews[\"Positive_Review\"]))\n",
    "df_hotelReviews.select(\"review\").show(5)"
   ]
  },
  {
   "cell_type": "code",
   "execution_count": 7,
   "metadata": {},
   "outputs": [
    {
     "name": "stdout",
     "output_type": "stream",
     "text": [
      "+-------------+\n",
      "|is_bad_review|\n",
      "+-------------+\n",
      "|            1|\n",
      "|            0|\n",
      "|            0|\n",
      "|            1|\n",
      "|            0|\n",
      "+-------------+\n",
      "only showing top 5 rows\n",
      "\n"
     ]
    }
   ],
   "source": [
    "df_hotelReviews = df_hotelReviews.withColumn('is_bad_review', f.when(df_hotelReviews['Reviewer_Score'] < 5, 1).otherwise(0))\n",
    "df_hotelReviews.select(\"is_bad_review\").show(5)"
   ]
  },
  {
   "cell_type": "code",
   "execution_count": 8,
   "metadata": {},
   "outputs": [
    {
     "name": "stdout",
     "output_type": "stream",
     "text": [
      "+--------------------+-------------+\n",
      "|              review|is_bad_review|\n",
      "+--------------------+-------------+\n",
      "| I am so angry th...|            1|\n",
      "|No Negative No re...|            0|\n",
      "| Rooms are nice b...|            0|\n",
      "| My room was dirt...|            1|\n",
      "| You When I booke...|            0|\n",
      "+--------------------+-------------+\n",
      "only showing top 5 rows\n",
      "\n"
     ]
    }
   ],
   "source": [
    "reviews = df_hotelReviews.select(\"review\", \"is_bad_review\")\n",
    "reviews.show(5)"
   ]
  },
  {
   "cell_type": "code",
   "execution_count": 9,
   "metadata": {},
   "outputs": [],
   "source": [
    "sample_reviews = reviews.sample(False, 0.1, seed=42)"
   ]
  },
  {
   "cell_type": "code",
   "execution_count": 10,
   "metadata": {},
   "outputs": [
    {
     "name": "stdout",
     "output_type": "stream",
     "text": [
      "+--------------------+-------------+\n",
      "|              review|is_bad_review|\n",
      "+--------------------+-------------+\n",
      "| Apart from the p...|            0|\n",
      "| Very steep steps...|            0|\n",
      "| Public areas are...|            0|\n",
      "| The bar was shut...|            0|\n",
      "| The hotel is und...|            0|\n",
      "+--------------------+-------------+\n",
      "only showing top 5 rows\n",
      "\n"
     ]
    }
   ],
   "source": [
    "sample_reviews = sample_reviews.withColumn(\"review\", f.regexp_replace(f.col(\"review\"), \"No Negative\", \"\"))\n",
    "sample_reviews = sample_reviews.withColumn(\"review\", f.regexp_replace(f.col(\"review\"), \"No Positive\", \"\"))\n",
    "sample_reviews.show(5)"
   ]
  },
  {
   "cell_type": "code",
   "execution_count": 11,
   "metadata": {
    "tags": []
   },
   "outputs": [],
   "source": [
    "def cleanText(text):\n",
    "    text = text.lower()\n",
    "    text = [word.strip(string.punctuation) for word in text.split(\" \")]\n",
    "    text = [word for word in text if not any(c.isdigit() for c in word)]\n",
    "    text = [t for t in text if len(t) > 0]\n",
    "    text = [word for word in text if word not in stopwordsEnglish]\n",
    "    text = [WordNetLemmatizer().lemmatize(t) for t in text]\n",
    "    text = [t for t in text if len(t) > 1]\n",
    "    text = \" \".join(text)\n",
    "    return text\n",
    "    return text"
   ]
  },
  {
   "cell_type": "code",
   "execution_count": 12,
   "metadata": {},
   "outputs": [
    {
     "name": "stdout",
     "output_type": "stream",
     "text": [
      "+---------------------------------------------------------------------------------------------------------------------------------------------------------------------------------------------------------+\n",
      "|review_clean                                                                                                                                                                                             |\n",
      "+---------------------------------------------------------------------------------------------------------------------------------------------------------------------------------------------------------+\n",
      "|apart price brekfast everything good good location set lovely park friendly staff food high quality oth enjoyed breakfast                                                                                |\n",
      "|steep step room bed safe child asked move room put another identical one room decoration minamilist like felt prison cell sparse great onsite cafe amazing building park location amazing bobby gin tonic|\n",
      "|public area lovely room nice window broken drain bathroom smelt old building clearly old building issue                                                                                                  |\n",
      "|bar shut got back midnight seemed quite early hotel bar saturday night city like amsterdam room upgraded renovation part building room given enormous comfortable wish staying week one night            |\n",
      "|hotel renovation even though park view scaffolding also bed would benefit pillow blanket personal preference location perfect beautiful tram ride centre anywhere really                                 |\n",
      "+---------------------------------------------------------------------------------------------------------------------------------------------------------------------------------------------------------+\n",
      "only showing top 5 rows\n",
      "\n"
     ]
    }
   ],
   "source": [
    "udfCleanText = f.udf(cleanText, StringType())\n",
    "sample_reviews = sample_reviews.withColumn(\"review_clean\", udfCleanText(f.col(\"review\")))\n",
    "sample_reviews.select(\"review_clean\").show(5, truncate=False)"
   ]
  },
  {
   "attachments": {},
   "cell_type": "markdown",
   "metadata": {},
   "source": [
    "## 3. Feature Engineering"
   ]
  },
  {
   "cell_type": "code",
   "execution_count": 13,
   "metadata": {},
   "outputs": [],
   "source": [
    "from nltk.sentiment.vader import SentimentIntensityAnalyzer\n",
    "\n",
    "def getSentimentScore(text):\n",
    "    analyzer = SentimentIntensityAnalyzer()\n",
    "    vs = analyzer.polarity_scores(text)\n",
    "    return vs\n",
    "\n",
    "udfSentimentScore = f.udf(getSentimentScore, MapType(keyType=StringType(), valueType=DoubleType()))"
   ]
  },
  {
   "cell_type": "code",
   "execution_count": 14,
   "metadata": {},
   "outputs": [],
   "source": [
    "#make column sentiments\n",
    "sample_reviews = sample_reviews.withColumn(\"sentiments\", udfSentimentScore(f.col(\"review\")))"
   ]
  },
  {
   "cell_type": "code",
   "execution_count": 15,
   "metadata": {},
   "outputs": [],
   "source": [
    "#make columns for each sentiment data\n",
    "sample_reviews = sample_reviews.withColumn(\"neg\", sample_reviews.sentiments.getItem('neg')) \\\n",
    "                      .withColumn(\"neu\", sample_reviews.sentiments.getItem('neu')) \\\n",
    "                      .withColumn(\"pos\", sample_reviews.sentiments.getItem('pos')) \\\n",
    "                      .withColumn(\"compound\", sample_reviews.sentiments.getItem('compound'))"
   ]
  },
  {
   "cell_type": "code",
   "execution_count": 16,
   "metadata": {},
   "outputs": [],
   "source": [
    "#remove the column sentiments\n",
    "sample_reviews = sample_reviews.select([c for c in sample_reviews.columns if c != \"sentiments\"])"
   ]
  },
  {
   "cell_type": "code",
   "execution_count": 17,
   "metadata": {},
   "outputs": [],
   "source": [
    "# count characters\n",
    "sample_reviews = sample_reviews.withColumn(\"char_count\", f.length(f.col(\"review\")))\n",
    "\n",
    "# count words\n",
    "sample_reviews = sample_reviews.withColumn(\"word_count\", f.size(f.split(f.col(\"review\"), \" \")))"
   ]
  },
  {
   "cell_type": "code",
   "execution_count": 18,
   "metadata": {},
   "outputs": [
    {
     "name": "stdout",
     "output_type": "stream",
     "text": [
      "+--------------------+-------------+--------------------+-----+-----+-----+--------+----------+----------+--------------------+--------------------+--------------------+\n",
      "|              review|is_bad_review|        review_clean|  neg|  neu|  pos|compound|char_count|word_count|               words|         rawFeatures|            features|\n",
      "+--------------------+-------------+--------------------+-----+-----+-----+--------+----------+----------+--------------------+--------------------+--------------------+\n",
      "| Apart from the p...|            0|apart price brekf...|  0.0|0.557|0.443|  0.9491|       157|        29|[apart, price, br...|(262144,[25789,43...|(262144,[25789,43...|\n",
      "| Very steep steps...|            0|steep step room b...|0.095|0.631|0.274|   0.928|       270|        51|[steep, step, roo...|(262144,[3280,110...|(262144,[3280,110...|\n",
      "| Public areas are...|            0|public area lovel...|0.106|0.692|0.201|  0.4019|       166|        33|[public, area, lo...|(262144,[11941,22...|(262144,[11941,22...|\n",
      "| The bar was shut...|            0|bar shut got back...|  0.0|0.854|0.146|  0.8431|       324|        67|[bar, shut, got, ...|(262144,[3091,880...|(262144,[3091,880...|\n",
      "| The hotel is und...|            0|hotel renovation ...|  0.0|0.786|0.214|  0.8977|       257|        48|[hotel, renovatio...|(262144,[21641,71...|(262144,[21641,71...|\n",
      "+--------------------+-------------+--------------------+-----+-----+-----+--------+----------+----------+--------------------+--------------------+--------------------+\n",
      "only showing top 5 rows\n",
      "\n"
     ]
    }
   ],
   "source": [
    "# TF-IDF\n",
    "from pyspark.ml.feature import Tokenizer, StopWordsRemover, CountVectorizer, IDF, HashingTF, IDFModel, Word2Vec\n",
    "from pyspark.ml import Pipeline\n",
    "\n",
    "tokenizer = Tokenizer(inputCol=\"review_clean\", outputCol=\"words\")\n",
    "hashingTF = HashingTF(inputCol=\"words\", outputCol=\"rawFeatures\")\n",
    "idf = IDF(inputCol=\"rawFeatures\", outputCol=\"features\", minDocFreq=5)\n",
    "pipeline = Pipeline(stages=[tokenizer, hashingTF, idf])\n",
    "pipelineFit = pipeline.fit(sample_reviews)\n",
    "sample_reviews = pipelineFit.transform(sample_reviews)\n",
    "\n",
    "sample_reviews.show(5)"
   ]
  },
  {
   "attachments": {},
   "cell_type": "markdown",
   "metadata": {},
   "source": [
    "## 4. EDA"
   ]
  },
  {
   "cell_type": "code",
   "execution_count": 19,
   "metadata": {},
   "outputs": [
    {
     "name": "stdout",
     "output_type": "stream",
     "text": [
      "+-------------+-----+\n",
      "|is_bad_review|count|\n",
      "+-------------+-----+\n",
      "|            1| 2163|\n",
      "|            0|49387|\n",
      "+-------------+-----+\n",
      "\n"
     ]
    }
   ],
   "source": [
    "value_counts = sample_reviews.groupBy(\"is_bad_review\").count().show()"
   ]
  },
  {
   "cell_type": "code",
   "execution_count": 20,
   "metadata": {},
   "outputs": [
    {
     "data": {
      "image/png": "[encoded data removed]",
      "text/plain": [
       "<Figure size 432x288 with 1 Axes>"
      ]
     },
     "metadata": {
      "needs_background": "light"
     },
     "output_type": "display_data"
    }
   ],
   "source": [
    "from wordcloud import WordCloud\n",
    "import matplotlib.pyplot as plt\n",
    "\n",
    "# select data with is_bad_review = 1\n",
    "text_data = sample_reviews.filter(f.col(\"is_bad_review\") == 1).select(\"review\").rdd.map(lambda row: row[0]).collect()\n",
    "text = \" \".join(text_data)\n",
    "\n",
    "# make wordcloud\n",
    "wordcloud = WordCloud(background_color='black', width=1600, height=800, max_words=50).generate(text)\n",
    "\n",
    "# show wordcloud\n",
    "plt.imshow(wordcloud, interpolation='bilinear')\n",
    "plt.axis(\"off\")\n",
    "plt.show()"
   ]
  },
  {
   "cell_type": "code",
   "execution_count": 21,
   "metadata": {},
   "outputs": [
    {
     "name": "stdout",
     "output_type": "stream",
     "text": [
      "+-------------------------------------------------+-----+\n",
      "|review                                           |pos  |\n",
      "+-------------------------------------------------+-----+\n",
      "| clean comfortable attractive                    |1.0  |\n",
      "| Excellent service super comfortable             |0.916|\n",
      "| Best location comfortable clean                 |0.911|\n",
      "| Helpful friendly great staff                    |0.91 |\n",
      "| happy friendly helpful staff                    |0.907|\n",
      "| Great hotel good value                          |0.904|\n",
      "| breakfast excellent Clean comfort               |0.899|\n",
      "| Clean comfortable good facilities               |0.899|\n",
      "| Nice clean and friendly                         |0.897|\n",
      "| Great value great location clean and comfortable|0.892|\n",
      "+-------------------------------------------------+-----+\n",
      "only showing top 10 rows\n",
      "\n"
     ]
    }
   ],
   "source": [
    "sample_reviews.filter(f.col(\"word_count\") >= 5).orderBy(f.col(\"pos\").desc()).select(\"review\", \"pos\").show(10, truncate=False)"
   ]
  },
  {
   "cell_type": "code",
   "execution_count": 31,
   "metadata": {},
   "outputs": [
    {
     "name": "stdout",
     "output_type": "stream",
     "text": [
      "+--------------------+-----+\n",
      "|              review|  neg|\n",
      "+--------------------+-----+\n",
      "| Nothing Thanks I...|0.844|\n",
      "| Nothing  Great h...|0.812|\n",
      "| dirty old bad fo...|0.802|\n",
      "| Nothing Excellen...|0.799|\n",
      "|      Noisy no view |0.796|\n",
      "| Nothing Comforta...|0.786|\n",
      "|     Nothing  Great |0.767|\n",
      "| Nothing  Excelle...|0.763|\n",
      "| Nothing  Beautiful |0.759|\n",
      "| poor facility po...|0.756|\n",
      "+--------------------+-----+\n",
      "only showing top 10 rows\n",
      "\n"
     ]
    }
   ],
   "source": [
    "sample_reviews.filter(f.col(\"word_count\") >= 5).orderBy(f.col(\"neg\").desc()).select(\"review\", \"neg\").show(10)"
   ]
  },
  {
   "cell_type": "code",
   "execution_count": 38,
   "metadata": {},
   "outputs": [
    {
     "name": "stderr",
     "output_type": "stream",
     "text": [
      "C:\\Users\\AZIS\\AppData\\Local\\Packages\\PythonSoftwareFoundation.Python.3.9_qbz5n2kfra8p0\\LocalCache\\local-packages\\Python39\\site-packages\\seaborn\\distributions.py:2619: FutureWarning: `distplot` is a deprecated function and will be removed in a future version. Please adapt your code to use either `displot` (a figure-level function with similar flexibility) or `kdeplot` (an axes-level function for kernel density plots).\n",
      "  warnings.warn(msg, FutureWarning)\n",
      "C:\\Users\\AZIS\\AppData\\Local\\Packages\\PythonSoftwareFoundation.Python.3.9_qbz5n2kfra8p0\\LocalCache\\local-packages\\Python39\\site-packages\\seaborn\\distributions.py:2619: FutureWarning: `distplot` is a deprecated function and will be removed in a future version. Please adapt your code to use either `displot` (a figure-level function with similar flexibility) or `kdeplot` (an axes-level function for kernel density plots).\n",
      "  warnings.warn(msg, FutureWarning)\n"
     ]
    },
    {
     "data": {
      "image/png": "[encoded data removed]",
      "text/plain": [
       "<Figure size 432x288 with 1 Axes>"
      ]
     },
     "metadata": {
      "needs_background": "light"
     },
     "output_type": "display_data"
    }
   ],
   "source": [
    "import seaborn as sns\n",
    "\n",
    "pandasReviews = sample_reviews.select(\"compound\", \"is_bad_review\").toPandas()\n",
    "\n",
    "for x in [0, 1]:\n",
    "    subset = pandasReviews[pandasReviews[\"is_bad_review\"] == x]\n",
    "    \n",
    "    # Draw the density plot\n",
    "    if x == 0:\n",
    "        label = \"Good reviews\"\n",
    "    else:\n",
    "        label = \"Bad reviews\"\n",
    "    sns.distplot(subset['compound'], hist = False, label = label)\n",
    "\n",
    "plt.show()"
   ]
  },
  {
   "attachments": {},
   "cell_type": "markdown",
   "metadata": {},
   "source": [
    "## Testing"
   ]
  },
  {
   "cell_type": "code",
   "execution_count": 22,
   "metadata": {},
   "outputs": [],
   "source": [
    "# from pyspark.ml.classification import LogisticRegression\n",
    "# from pyspark.ml.feature import VectorAssembler\n",
    "# from pyspark.ml.evaluation import BinaryClassificationEvaluator"
   ]
  },
  {
   "cell_type": "code",
   "execution_count": 23,
   "metadata": {},
   "outputs": [],
   "source": [
    "# assembler = VectorAssembler(inputCols=[\"neg\", \"neu\", \"pos\", \"compound\", \"char_count\", \"word_count\", \"features\"], outputCol=\"features_vec\")"
   ]
  },
  {
   "cell_type": "code",
   "execution_count": 24,
   "metadata": {},
   "outputs": [],
   "source": [
    "# lr = LogisticRegression(featuresCol=\"features_vec\", labelCol=\"is_bad_review\")"
   ]
  },
  {
   "cell_type": "code",
   "execution_count": 25,
   "metadata": {},
   "outputs": [],
   "source": [
    "# pipeline = Pipeline(stages=[assembler, lr])"
   ]
  },
  {
   "cell_type": "code",
   "execution_count": 26,
   "metadata": {},
   "outputs": [],
   "source": [
    "# train, test = sample_reviews.randomSplit([0.7, 0.3], seed=42)"
   ]
  },
  {
   "cell_type": "code",
   "execution_count": 27,
   "metadata": {},
   "outputs": [],
   "source": [
    "# model = pipeline.fit(train)"
   ]
  },
  {
   "cell_type": "code",
   "execution_count": 28,
   "metadata": {},
   "outputs": [],
   "source": [
    "# predictions = model.transform(test)"
   ]
  },
  {
   "cell_type": "code",
   "execution_count": 29,
   "metadata": {},
   "outputs": [],
   "source": [
    "# evaluator = BinaryClassificationEvaluator(rawPredictionCol=\"prediction\", labelCol=\"is_bad_review\")\n",
    "# evaluator.evaluate(predictions)"
   ]
  }
 ],
 "metadata": {
  "kernelspec": {
   "display_name": "Python 3",
   "language": "python",
   "name": "python3"
  },
  "language_info": {
   "codemirror_mode": {
    "name": "ipython",
    "version": 3
   },
   "file_extension": ".py",
   "mimetype": "text/x-python",
   "name": "python",
   "nbconvert_exporter": "python",
   "pygments_lexer": "ipython3",
   "version": "3.9.13"
  },
  "orig_nbformat": 4,
  "vscode": {
   "interpreter": {
    "hash": "0055620457585cfa0e6b59fd86ec2a1863757c6983b9090fbe1ad512d576bc18"
   }
  }
 },
 "nbformat": 4,
 "nbformat_minor": 2
}
